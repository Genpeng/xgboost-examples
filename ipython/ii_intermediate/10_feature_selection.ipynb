{
 "cells": [
  {
   "cell_type": "markdown",
   "metadata": {},
   "source": [
    "Objective:\n",
    "- learn how to do feature selection by using feature importances"
   ]
  },
  {
   "cell_type": "code",
   "execution_count": 1,
   "metadata": {},
   "outputs": [],
   "source": [
    "import numpy as np\n",
    "import pandas as pd\n",
    "from xgboost import XGBClassifier\n",
    "from sklearn.model_selection import train_test_split\n",
    "from sklearn.metrics import accuracy_score\n",
    "from sklearn.feature_selection import SelectFromModel"
   ]
  },
  {
   "cell_type": "code",
   "execution_count": 2,
   "metadata": {},
   "outputs": [],
   "source": [
    "# read in data\n",
    "df = pd.read_csv(\"../../data/diabetes.csv\", sep=\",\")"
   ]
  },
  {
   "cell_type": "code",
   "execution_count": 3,
   "metadata": {},
   "outputs": [],
   "source": [
    "# prepare training and testing set\n",
    "X, y = df.iloc[:, :-1].values, df.iloc[:, -1].values\n",
    "X_train, X_test, y_train, y_test = train_test_split(\n",
    "    X, y, test_size=0.3, stratify=y, shuffle=True, random_state=89\n",
    ")"
   ]
  },
  {
   "cell_type": "code",
   "execution_count": 4,
   "metadata": {},
   "outputs": [],
   "source": [
    "class MyXGBClassifier(XGBClassifier):\n",
    "    @property\n",
    "    def coef_(self):\n",
    "        return None"
   ]
  },
  {
   "cell_type": "code",
   "execution_count": 5,
   "metadata": {},
   "outputs": [
    {
     "name": "stdout",
     "output_type": "stream",
     "text": [
      "[INFO] The test accuracy of XGBoost is: 74.03%\n"
     ]
    }
   ],
   "source": [
    "# train the model\n",
    "clf = MyXGBClassifier()  # use custom class to fix bug in xgboost 1.0.2\n",
    "clf.fit(X_train, y_train)\n",
    "preds_test = clf.predict(X_test)\n",
    "acc_test = accuracy_score(y_test, preds_test)\n",
    "print(\"[INFO] The test accuracy of XGBoost is: %.2f%%\" % (acc_test * 100))"
   ]
  },
  {
   "cell_type": "code",
   "execution_count": 6,
   "metadata": {},
   "outputs": [
    {
     "name": "stdout",
     "output_type": "stream",
     "text": [
      "threshold = 0.086725, n = 8, accuracy = 74.03%\n",
      "threshold = 0.094203, n = 7, accuracy = 73.16%\n",
      "threshold = 0.097505, n = 6, accuracy = 76.19%\n",
      "threshold = 0.098924, n = 5, accuracy = 73.59%\n",
      "threshold = 0.099591, n = 4, accuracy = 73.16%\n",
      "threshold = 0.134071, n = 3, accuracy = 75.32%\n",
      "threshold = 0.164807, n = 2, accuracy = 71.86%\n",
      "threshold = 0.224174, n = 1, accuracy = 72.73%\n"
     ]
    }
   ],
   "source": [
    "# using feature importance to do feature selection\n",
    "thresholds = np.sort(clf.feature_importances_)\n",
    "for threshold in thresholds:\n",
    "    selecter = SelectFromModel(clf, threshold=threshold, prefit=True)\n",
    "    X_train_selected = selecter.transform(X_train)\n",
    "    X_test_selected = selecter.transform(X_test)\n",
    "    model = MyXGBClassifier()\n",
    "    model.fit(X_train_selected, y_train)\n",
    "    preds = model.predict(X_test_selected)\n",
    "    acc = accuracy_score(y_test, preds)\n",
    "    print(\n",
    "        \"threshold = %f, n = %d, accuracy = %.2f%%\"\n",
    "        % (threshold, X_train_selected.shape[1], acc * 100)\n",
    "    )"
   ]
  },
  {
   "cell_type": "code",
   "execution_count": null,
   "metadata": {},
   "outputs": [],
   "source": []
  }
 ],
 "metadata": {
  "kernelspec": {
   "display_name": "Python 3",
   "language": "python",
   "name": "python3"
  },
  "language_info": {
   "codemirror_mode": {
    "name": "ipython",
    "version": 3
   },
   "file_extension": ".py",
   "mimetype": "text/x-python",
   "name": "python",
   "nbconvert_exporter": "python",
   "pygments_lexer": "ipython3",
   "version": "3.6.10"
  }
 },
 "nbformat": 4,
 "nbformat_minor": 4
}
