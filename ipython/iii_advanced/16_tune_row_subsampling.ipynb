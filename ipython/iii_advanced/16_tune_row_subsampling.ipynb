{
 "cells": [
  {
   "cell_type": "code",
   "execution_count": null,
   "metadata": {},
   "outputs": [],
   "source": [
    "import numpy as np\n",
    "import pandas as pd\n",
    "import matplotlib.pyplot as plt\n",
    "from time import time\n",
    "from pprint import pprint\n",
    "from xgboost import XGBClassifier\n",
    "from sklearn.preprocessing import LabelEncoder\n",
    "from sklearn.model_selection import StratifiedKFold, GridSearchCV\n",
    "\n",
    "%matplotlib inline"
   ]
  },
  {
   "cell_type": "code",
   "execution_count": null,
   "metadata": {},
   "outputs": [],
   "source": [
    "# read in data\n",
    "df = pd.read_csv(\"../../data/otto-group-product-classification-challenge/train.csv\")\n",
    "df.drop(columns=[\"id\"], inplace=True)"
   ]
  },
  {
   "cell_type": "code",
   "execution_count": null,
   "metadata": {},
   "outputs": [],
   "source": [
    "# Split into features and label\n",
    "X, y = df.iloc[:, :-1].values, df.iloc[:, -1].values"
   ]
  },
  {
   "cell_type": "code",
   "execution_count": null,
   "metadata": {},
   "outputs": [],
   "source": [
    "# label encode string class values\n",
    "label_encoder = LabelEncoder()\n",
    "y = label_encoder.fit_transform(y)"
   ]
  },
  {
   "cell_type": "code",
   "execution_count": null,
   "metadata": {},
   "outputs": [],
   "source": [
    "# use grid search to find best number of trees\n",
    "clf = XGBClassifier(n_estimators=200, max_depth=6)\n",
    "subsample_list = [0.4, 0.5, 0.6, 0.7, 0.8, 0.9]\n",
    "param_grid = {\n",
    "    \"subsample\": subsmaple_list, \n",
    "}\n",
    "kfold = StratifiedKFold(n_splits=5, shuffle=True, random_state=89)\n",
    "cv = GridSearchCV(clf, param_grid, cv=kfold, scoring=\"neg_log_loss\", n_jobs=-1)\n",
    "t0 = time()\n",
    "cv.fit(X, y)\n",
    "print(\"[INFO] The time taken to search is: %f\" % (time() - t0))"
   ]
  },
  {
   "cell_type": "code",
   "execution_count": null,
   "metadata": {},
   "outputs": [],
   "source": [
    "# print the process\n",
    "print(\n",
    "    \"[INFO] The best score is: %f, where the best parameter combination is:\"\n",
    "    % (cv.best_score_)\n",
    ")\n",
    "pprint(cv.best_params_)\n",
    "print()\n",
    "\n",
    "means = cv.cv_results_[\"mean_test_score\"]\n",
    "stds = cv.cv_results_[\"std_test_score\"]\n",
    "params = cv.cv_results_[\"params\"]\n",
    "for mean, std, param in zip(means, stds, params):\n",
    "    print(\"%f (+/- %f) with %s\" % (mean, std, param))"
   ]
  },
  {
   "cell_type": "code",
   "execution_count": null,
   "metadata": {},
   "outputs": [],
   "source": [
    "# visualize the process\n",
    "fig, ax = plt.subplots(figsize=(8, 6))\n",
    "ax.errorbar(learning_rate_list, means, yerr=stds)\n",
    "plt.xlabel(\"subsample\")\n",
    "plt.ylabel(\"Log Loss\")\n",
    "plt.title(\"XGBoost subsample vs Log Loss\")\n",
    "plt.grid()\n",
    "plt.show()"
   ]
  },
  {
   "cell_type": "code",
   "execution_count": null,
   "metadata": {},
   "outputs": [],
   "source": []
  }
 ],
 "metadata": {
  "kernelspec": {
   "display_name": "Python 3",
   "language": "python",
   "name": "python3"
  },
  "language_info": {
   "codemirror_mode": {
    "name": "ipython",
    "version": 3
   },
   "file_extension": ".py",
   "mimetype": "text/x-python",
   "name": "python",
   "nbconvert_exporter": "python",
   "pygments_lexer": "ipython3",
   "version": "3.6.10-final"
  }
 },
 "nbformat": 4,
 "nbformat_minor": 4
}